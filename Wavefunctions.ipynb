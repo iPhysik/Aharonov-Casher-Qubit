{
 "cells": [
  {
   "cell_type": "code",
   "execution_count": 1,
   "metadata": {},
   "outputs": [
    {
     "name": "stdout",
     "output_type": "stream",
     "text": [
      "Populating the interactive namespace from numpy and matplotlib\n"
     ]
    }
   ],
   "source": [
    "%pylab inline\n",
    "import numpy as np\n",
    "import matplotlib.pyplot as plt\n",
    "from scipy import *\n",
    "from scipy import optimize\n",
    "from wavefunction import *\n",
    "from wavefunction.wavefunction1d import *\n",
    "from wavefunction.utils import *\n",
    "from AC_qubit_func import U_ho"
   ]
  },
  {
   "cell_type": "code",
   "execution_count": 2,
   "metadata": {},
   "outputs": [],
   "source": [
    "params = {'EJ':6.25,'EC':6.25,'EL':0.0004,'ECL':8,'Delta_EJ':0}"
   ]
  },
  {
   "cell_type": "code",
   "execution_count": 3,
   "metadata": {},
   "outputs": [],
   "source": [
    "args = {'Phi_min':-9*pi,'Phi_max':9*pi,'Qdim':5,'gridsize':80}"
   ]
  },
  {
   "cell_type": "code",
   "execution_count": 4,
   "metadata": {},
   "outputs": [],
   "source": [
    "E_J =params['EJ']\n",
    "E_C = params['EC']\n",
    "E_L = params['EL']\n",
    "E_CL = params['ECL']\n",
    "Delta_E_J =params['Delta_EJ']\n",
    "\n",
    "phi_min = args['Phi_min']\n",
    "phi_max = args['Phi_max']\n",
    "gridsize=args['gridsize'] # grid size along coordinate phi\n",
    "Q_dim=args['Qdim']"
   ]
  },
  {
   "cell_type": "code",
   "execution_count": 5,
   "metadata": {},
   "outputs": [],
   "source": [
    "Q_list = np.arange(Q_dim)\n",
    "ng = 0.5\n",
    "phi0 = np.pi"
   ]
  },
  {
   "cell_type": "code",
   "execution_count": 6,
   "metadata": {},
   "outputs": [],
   "source": [
    "Q = np.diag(Q_list).astype(np.complex)\n",
    "    \n",
    "Q_dim = np.size(Q_list)\n",
    "Q_ = np.zeros((Q_dim,Q_dim)).astype(np.complex)\n",
    "for m in range(0,Q_dim):\n",
    "    for n in range(0,Q_dim):\n",
    "        Q_[m,n]=mod_kron(m+1,n)+mod_kron(m-1,n)\n",
    "\n",
    "Q_p = np.zeros((Q_dim,Q_dim)).astype(np.complex)\n",
    "for m in range(0,Q_dim):\n",
    "    for n in range(0,Q_dim):\n",
    "        Q_p[m,n]=-1j*mod_kron(m+1,n)+1j*mod_kron(m-1,n)\n",
    "\n",
    "\n",
    "# charging energy of CPB\n",
    "H0 = 4* E_C * np.kron( (np.diag((Q_list-ng)**2)), np.diag(ones(gridsize+1)) )\n",
    "\n",
    "x0 = phi0\n",
    "# potential energy of superinductor\n",
    "x = linspace(phi_min,phi_max,gridsize+1)+x0\n",
    "u = assemble_u_potential(U_ho, x, {'k': E_L, 'x0': x0})\n",
    "V = np.kron(np.diag(ones(Q_dim)),assemble_V(u))\n",
    "\n",
    "# kinetic energy of superinductor\n",
    "K = np.kron (np.diag(ones(Q_dim)),assemble_K(-4*E_CL,x))\n",
    "\n",
    "#\n",
    "H = K + V\n",
    "\n",
    "# symmetric CPB\n",
    "u = -E_J * np.cos(x/2)\n",
    "V = np.kron(Q_, assemble_V(u)) \n",
    "H +=V\n",
    "\n",
    "# add asymmetry to EJ\n",
    "if True:\n",
    "    u = - 1./2 *Delta_E_J* np.sin(x/2)\n",
    "    V = np.kron(Q_p,assemble_V(u)) \n",
    "    H += V "
   ]
  },
  {
   "cell_type": "code",
   "execution_count": 7,
   "metadata": {},
   "outputs": [],
   "source": [
    "# evals, evecs = solve_eigenproblem(H+H0)\n",
    "# evals = evals.real\n",
    "\n",
    "vals, vecs = np.linalg.eig(H)\n",
    "idx = np.real(vals).argsort()\n",
    "evals = vals[idx]\n",
    "evecs = vecs.T[idx]\n"
   ]
  },
  {
   "cell_type": "code",
   "execution_count": 8,
   "metadata": {},
   "outputs": [
    {
     "data": {
      "text/plain": [
       "[<matplotlib.lines.Line2D at 0x205371e7518>]"
      ]
     },
     "execution_count": 8,
     "metadata": {},
     "output_type": "execute_result"
    },
    {
     "data": {
      "image/png": "[encoded data removed]",
      "text/plain": [
       "<Figure size 432x288 with 1 Axes>"
      ]
     },
     "metadata": {},
     "output_type": "display_data"
    }
   ],
   "source": [
    "xp = x/np.pi/2\n",
    "for i in np.arange(2):\n",
    "    y = evecs[i].real\n",
    "    y = y**2\n",
    "    y = np.sum(y.reshape(Q_dim,gridsize+1),0)\n",
    "    y = y/np.sum(y)\n",
    "    y = np.sqrt(y)\n",
    "    plt.plot(xp,y,'.--',label='%d'%i)\n",
    "plt.legend()\n",
    "plt.plot(np.ones(10)*0.5,np.linspace(-0.,0.5,10))\n",
    "\n",
    "# u = assemble_u_potential(U_ho, x, {'k': E_L, 'x0': x0})\n",
    "# plt.plot(xp,u/0.02)"
   ]
  },
  {
   "cell_type": "code",
   "execution_count": 9,
   "metadata": {},
   "outputs": [
    {
     "name": "stdout",
     "output_type": "stream",
     "text": [
      "wp 10.00 GHz\n",
      "E_dps 0.12053 GHz\n",
      "EL 0.000400 GHz\n"
     ]
    }
   ],
   "source": [
    "wp = (np.sqrt(2*E_J*E_CL))\n",
    "print('wp %.2f GHz' % wp)\n",
    "g = 4*np.sqrt(2*E_J/E_CL)\n",
    "print('E_dps %.5f GHz' % (0.8 * np.sqrt(g) * np.exp(-g) * wp))\n",
    "print('EL %f GHz' % E_L)"
   ]
  },
  {
   "cell_type": "code",
   "execution_count": null,
   "metadata": {},
   "outputs": [],
   "source": []
  }
 ],
 "metadata": {
  "kernelspec": {
   "display_name": "Python 3",
   "language": "python",
   "name": "python3"
  },
  "language_info": {
   "codemirror_mode": {
    "name": "ipython",
    "version": 3
   },
   "file_extension": ".py",
   "mimetype": "text/x-python",
   "name": "python",
   "nbconvert_exporter": "python",
   "pygments_lexer": "ipython3",
   "version": "3.6.5"
  }
 },
 "nbformat": 4,
 "nbformat_minor": 2
}
